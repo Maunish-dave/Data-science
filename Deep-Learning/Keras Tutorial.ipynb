{
 "cells": [
  {
   "cell_type": "markdown",
   "metadata": {},
   "source": [
    "## Preprocessing Data"
   ]
  },
  {
   "cell_type": "code",
   "execution_count": null,
   "metadata": {},
   "outputs": [],
   "source": [
    "import tensorflow as tf\n",
    "import keras as ks"
   ]
  },
  {
   "cell_type": "code",
   "execution_count": 2,
   "metadata": {},
   "outputs": [],
   "source": [
    "import numpy as np\n",
    "from random import randint\n",
    "from sklearn.preprocessing import MinMaxScaler"
   ]
  },
  {
   "cell_type": "code",
   "execution_count": 3,
   "metadata": {},
   "outputs": [],
   "source": [
    "import pandas as pd\n",
    "import matplotlib.pyplot as plt"
   ]
  },
  {
   "cell_type": "code",
   "execution_count": 31,
   "metadata": {},
   "outputs": [],
   "source": [
    "data = pd.read_csv(\"Admission_Predict.csv\")"
   ]
  },
  {
   "cell_type": "code",
   "execution_count": 32,
   "metadata": {},
   "outputs": [
    {
     "data": {
      "text/html": [
       "<div>\n",
       "<style scoped>\n",
       "    .dataframe tbody tr th:only-of-type {\n",
       "        vertical-align: middle;\n",
       "    }\n",
       "\n",
       "    .dataframe tbody tr th {\n",
       "        vertical-align: top;\n",
       "    }\n",
       "\n",
       "    .dataframe thead th {\n",
       "        text-align: right;\n",
       "    }\n",
       "</style>\n",
       "<table border=\"1\" class=\"dataframe\">\n",
       "  <thead>\n",
       "    <tr style=\"text-align: right;\">\n",
       "      <th></th>\n",
       "      <th>Serial No.</th>\n",
       "      <th>GRE Score</th>\n",
       "      <th>TOEFL Score</th>\n",
       "      <th>University Rating</th>\n",
       "      <th>SOP</th>\n",
       "      <th>LOR</th>\n",
       "      <th>CGPA</th>\n",
       "      <th>Research</th>\n",
       "      <th>Chance of Admit</th>\n",
       "    </tr>\n",
       "  </thead>\n",
       "  <tbody>\n",
       "    <tr>\n",
       "      <th>0</th>\n",
       "      <td>1</td>\n",
       "      <td>337</td>\n",
       "      <td>118</td>\n",
       "      <td>4</td>\n",
       "      <td>4.5</td>\n",
       "      <td>4.5</td>\n",
       "      <td>9.65</td>\n",
       "      <td>1</td>\n",
       "      <td>0.92</td>\n",
       "    </tr>\n",
       "    <tr>\n",
       "      <th>1</th>\n",
       "      <td>2</td>\n",
       "      <td>324</td>\n",
       "      <td>107</td>\n",
       "      <td>4</td>\n",
       "      <td>4.0</td>\n",
       "      <td>4.5</td>\n",
       "      <td>8.87</td>\n",
       "      <td>1</td>\n",
       "      <td>0.76</td>\n",
       "    </tr>\n",
       "    <tr>\n",
       "      <th>2</th>\n",
       "      <td>3</td>\n",
       "      <td>316</td>\n",
       "      <td>104</td>\n",
       "      <td>3</td>\n",
       "      <td>3.0</td>\n",
       "      <td>3.5</td>\n",
       "      <td>8.00</td>\n",
       "      <td>1</td>\n",
       "      <td>0.72</td>\n",
       "    </tr>\n",
       "    <tr>\n",
       "      <th>3</th>\n",
       "      <td>4</td>\n",
       "      <td>322</td>\n",
       "      <td>110</td>\n",
       "      <td>3</td>\n",
       "      <td>3.5</td>\n",
       "      <td>2.5</td>\n",
       "      <td>8.67</td>\n",
       "      <td>1</td>\n",
       "      <td>0.80</td>\n",
       "    </tr>\n",
       "    <tr>\n",
       "      <th>4</th>\n",
       "      <td>5</td>\n",
       "      <td>314</td>\n",
       "      <td>103</td>\n",
       "      <td>2</td>\n",
       "      <td>2.0</td>\n",
       "      <td>3.0</td>\n",
       "      <td>8.21</td>\n",
       "      <td>0</td>\n",
       "      <td>0.65</td>\n",
       "    </tr>\n",
       "  </tbody>\n",
       "</table>\n",
       "</div>"
      ],
      "text/plain": [
       "   Serial No.  GRE Score  TOEFL Score  University Rating  SOP  LOR   CGPA  \\\n",
       "0           1        337          118                  4  4.5   4.5  9.65   \n",
       "1           2        324          107                  4  4.0   4.5  8.87   \n",
       "2           3        316          104                  3  3.0   3.5  8.00   \n",
       "3           4        322          110                  3  3.5   2.5  8.67   \n",
       "4           5        314          103                  2  2.0   3.0  8.21   \n",
       "\n",
       "   Research  Chance of Admit   \n",
       "0         1              0.92  \n",
       "1         1              0.76  \n",
       "2         1              0.72  \n",
       "3         1              0.80  \n",
       "4         0              0.65  "
      ]
     },
     "execution_count": 32,
     "metadata": {},
     "output_type": "execute_result"
    }
   ],
   "source": [
    "data.head()"
   ]
  },
  {
   "cell_type": "code",
   "execution_count": 33,
   "metadata": {},
   "outputs": [
    {
     "data": {
      "text/plain": [
       "(400, 9)"
      ]
     },
     "execution_count": 33,
     "metadata": {},
     "output_type": "execute_result"
    }
   ],
   "source": [
    "data.shape"
   ]
  },
  {
   "cell_type": "code",
   "execution_count": 34,
   "metadata": {},
   "outputs": [
    {
     "data": {
      "text/html": [
       "<div>\n",
       "<style scoped>\n",
       "    .dataframe tbody tr th:only-of-type {\n",
       "        vertical-align: middle;\n",
       "    }\n",
       "\n",
       "    .dataframe tbody tr th {\n",
       "        vertical-align: top;\n",
       "    }\n",
       "\n",
       "    .dataframe thead th {\n",
       "        text-align: right;\n",
       "    }\n",
       "</style>\n",
       "<table border=\"1\" class=\"dataframe\">\n",
       "  <thead>\n",
       "    <tr style=\"text-align: right;\">\n",
       "      <th></th>\n",
       "      <th>Serial No.</th>\n",
       "      <th>GRE Score</th>\n",
       "      <th>TOEFL Score</th>\n",
       "      <th>University Rating</th>\n",
       "      <th>SOP</th>\n",
       "      <th>LOR</th>\n",
       "      <th>CGPA</th>\n",
       "      <th>Research</th>\n",
       "      <th>Chance of Admit</th>\n",
       "    </tr>\n",
       "  </thead>\n",
       "  <tbody>\n",
       "    <tr>\n",
       "      <th>count</th>\n",
       "      <td>400.000000</td>\n",
       "      <td>400.000000</td>\n",
       "      <td>400.000000</td>\n",
       "      <td>400.000000</td>\n",
       "      <td>400.000000</td>\n",
       "      <td>400.000000</td>\n",
       "      <td>400.000000</td>\n",
       "      <td>400.000000</td>\n",
       "      <td>400.000000</td>\n",
       "    </tr>\n",
       "    <tr>\n",
       "      <th>mean</th>\n",
       "      <td>200.500000</td>\n",
       "      <td>316.807500</td>\n",
       "      <td>107.410000</td>\n",
       "      <td>3.087500</td>\n",
       "      <td>3.400000</td>\n",
       "      <td>3.452500</td>\n",
       "      <td>8.598925</td>\n",
       "      <td>0.547500</td>\n",
       "      <td>0.724350</td>\n",
       "    </tr>\n",
       "    <tr>\n",
       "      <th>std</th>\n",
       "      <td>115.614301</td>\n",
       "      <td>11.473646</td>\n",
       "      <td>6.069514</td>\n",
       "      <td>1.143728</td>\n",
       "      <td>1.006869</td>\n",
       "      <td>0.898478</td>\n",
       "      <td>0.596317</td>\n",
       "      <td>0.498362</td>\n",
       "      <td>0.142609</td>\n",
       "    </tr>\n",
       "    <tr>\n",
       "      <th>min</th>\n",
       "      <td>1.000000</td>\n",
       "      <td>290.000000</td>\n",
       "      <td>92.000000</td>\n",
       "      <td>1.000000</td>\n",
       "      <td>1.000000</td>\n",
       "      <td>1.000000</td>\n",
       "      <td>6.800000</td>\n",
       "      <td>0.000000</td>\n",
       "      <td>0.340000</td>\n",
       "    </tr>\n",
       "    <tr>\n",
       "      <th>25%</th>\n",
       "      <td>100.750000</td>\n",
       "      <td>308.000000</td>\n",
       "      <td>103.000000</td>\n",
       "      <td>2.000000</td>\n",
       "      <td>2.500000</td>\n",
       "      <td>3.000000</td>\n",
       "      <td>8.170000</td>\n",
       "      <td>0.000000</td>\n",
       "      <td>0.640000</td>\n",
       "    </tr>\n",
       "    <tr>\n",
       "      <th>50%</th>\n",
       "      <td>200.500000</td>\n",
       "      <td>317.000000</td>\n",
       "      <td>107.000000</td>\n",
       "      <td>3.000000</td>\n",
       "      <td>3.500000</td>\n",
       "      <td>3.500000</td>\n",
       "      <td>8.610000</td>\n",
       "      <td>1.000000</td>\n",
       "      <td>0.730000</td>\n",
       "    </tr>\n",
       "    <tr>\n",
       "      <th>75%</th>\n",
       "      <td>300.250000</td>\n",
       "      <td>325.000000</td>\n",
       "      <td>112.000000</td>\n",
       "      <td>4.000000</td>\n",
       "      <td>4.000000</td>\n",
       "      <td>4.000000</td>\n",
       "      <td>9.062500</td>\n",
       "      <td>1.000000</td>\n",
       "      <td>0.830000</td>\n",
       "    </tr>\n",
       "    <tr>\n",
       "      <th>max</th>\n",
       "      <td>400.000000</td>\n",
       "      <td>340.000000</td>\n",
       "      <td>120.000000</td>\n",
       "      <td>5.000000</td>\n",
       "      <td>5.000000</td>\n",
       "      <td>5.000000</td>\n",
       "      <td>9.920000</td>\n",
       "      <td>1.000000</td>\n",
       "      <td>0.970000</td>\n",
       "    </tr>\n",
       "  </tbody>\n",
       "</table>\n",
       "</div>"
      ],
      "text/plain": [
       "       Serial No.   GRE Score  TOEFL Score  University Rating         SOP  \\\n",
       "count  400.000000  400.000000   400.000000         400.000000  400.000000   \n",
       "mean   200.500000  316.807500   107.410000           3.087500    3.400000   \n",
       "std    115.614301   11.473646     6.069514           1.143728    1.006869   \n",
       "min      1.000000  290.000000    92.000000           1.000000    1.000000   \n",
       "25%    100.750000  308.000000   103.000000           2.000000    2.500000   \n",
       "50%    200.500000  317.000000   107.000000           3.000000    3.500000   \n",
       "75%    300.250000  325.000000   112.000000           4.000000    4.000000   \n",
       "max    400.000000  340.000000   120.000000           5.000000    5.000000   \n",
       "\n",
       "             LOR         CGPA    Research  Chance of Admit   \n",
       "count  400.000000  400.000000  400.000000        400.000000  \n",
       "mean     3.452500    8.598925    0.547500          0.724350  \n",
       "std      0.898478    0.596317    0.498362          0.142609  \n",
       "min      1.000000    6.800000    0.000000          0.340000  \n",
       "25%      3.000000    8.170000    0.000000          0.640000  \n",
       "50%      3.500000    8.610000    1.000000          0.730000  \n",
       "75%      4.000000    9.062500    1.000000          0.830000  \n",
       "max      5.000000    9.920000    1.000000          0.970000  "
      ]
     },
     "execution_count": 34,
     "metadata": {},
     "output_type": "execute_result"
    }
   ],
   "source": [
    "data.describe()"
   ]
  },
  {
   "cell_type": "code",
   "execution_count": 35,
   "metadata": {},
   "outputs": [
    {
     "name": "stdout",
     "output_type": "stream",
     "text": [
      "<class 'pandas.core.frame.DataFrame'>\n",
      "RangeIndex: 400 entries, 0 to 399\n",
      "Data columns (total 9 columns):\n",
      "Serial No.           400 non-null int64\n",
      "GRE Score            400 non-null int64\n",
      "TOEFL Score          400 non-null int64\n",
      "University Rating    400 non-null int64\n",
      "SOP                  400 non-null float64\n",
      "LOR                  400 non-null float64\n",
      "CGPA                 400 non-null float64\n",
      "Research             400 non-null int64\n",
      "Chance of Admit      400 non-null float64\n",
      "dtypes: float64(4), int64(5)\n",
      "memory usage: 28.2 KB\n"
     ]
    }
   ],
   "source": [
    "data.info()"
   ]
  },
  {
   "cell_type": "code",
   "execution_count": 56,
   "metadata": {},
   "outputs": [],
   "source": [
    "X = data.iloc[:,:-1].values\n",
    "y = data.iloc[:,-1].values\n",
    "y = y > 0.5"
   ]
  },
  {
   "cell_type": "code",
   "execution_count": 57,
   "metadata": {},
   "outputs": [
    {
     "name": "stdout",
     "output_type": "stream",
     "text": [
      "(400, 8)\n",
      "(400,)\n"
     ]
    }
   ],
   "source": [
    "print(X.shape)\n",
    "print(y.shape)"
   ]
  },
  {
   "cell_type": "code",
   "execution_count": 58,
   "metadata": {},
   "outputs": [],
   "source": [
    "from sklearn.model_selection import train_test_split"
   ]
  },
  {
   "cell_type": "code",
   "execution_count": 59,
   "metadata": {},
   "outputs": [],
   "source": [
    "X_train, X_test, y_train, y_test = train_test_split(X,y,test_size=0.2)"
   ]
  },
  {
   "cell_type": "code",
   "execution_count": 60,
   "metadata": {},
   "outputs": [],
   "source": [
    "scaler = MinMaxScaler()\n",
    "X_train = scaler.fit_transform(X_train)\n",
    "X_test = scaler.transform(X_test)"
   ]
  },
  {
   "cell_type": "code",
   "execution_count": null,
   "metadata": {},
   "outputs": [],
   "source": []
  },
  {
   "cell_type": "code",
   "execution_count": 55,
   "metadata": {},
   "outputs": [],
   "source": [
    "from keras.models import Sequential\n",
    "from keras.layers import Activation\n",
    "from keras.layers.core import Dense\n",
    "from keras.optimizers import Adam\n",
    "from keras.metrics import categorical_accuracy,categorical_crossentropy"
   ]
  },
  {
   "cell_type": "code",
   "execution_count": 67,
   "metadata": {},
   "outputs": [],
   "source": [
    "model = Sequential()\n",
    "model.add(Dense(units=4,input_dim = 8, activation='relu'))\n",
    "model.add(Dense(units=6,activation='relu'))\n",
    "model.add(Dense(units=2,activation='sigmoid'))\n",
    "model.compile(optimizer='adam',loss ='binary_crossentropy',metrics =['accuracy'])"
   ]
  },
  {
   "cell_type": "code",
   "execution_count": 68,
   "metadata": {},
   "outputs": [
    {
     "name": "stdout",
     "output_type": "stream",
     "text": [
      "_________________________________________________________________\n",
      "Layer (type)                 Output Shape              Param #   \n",
      "=================================================================\n",
      "dense_7 (Dense)              (None, 4)                 36        \n",
      "_________________________________________________________________\n",
      "dense_8 (Dense)              (None, 6)                 30        \n",
      "_________________________________________________________________\n",
      "dense_9 (Dense)              (None, 1)                 7         \n",
      "=================================================================\n",
      "Total params: 73\n",
      "Trainable params: 73\n",
      "Non-trainable params: 0\n",
      "_________________________________________________________________\n"
     ]
    }
   ],
   "source": [
    "model.summary()"
   ]
  },
  {
   "cell_type": "code",
   "execution_count": 82,
   "metadata": {},
   "outputs": [
    {
     "name": "stdout",
     "output_type": "stream",
     "text": [
      "Epoch 1/100\n",
      "320/320 [==============================] - 0s 240us/step - loss: 0.1777 - acc: 0.9219\n",
      "Epoch 2/100\n",
      "320/320 [==============================] - 0s 287us/step - loss: 0.1774 - acc: 0.9250\n",
      "Epoch 3/100\n",
      "320/320 [==============================] - 0s 287us/step - loss: 0.1766 - acc: 0.9219\n",
      "Epoch 4/100\n",
      "320/320 [==============================] - 0s 305us/step - loss: 0.1761 - acc: 0.9219\n",
      "Epoch 5/100\n",
      "320/320 [==============================] - 0s 302us/step - loss: 0.1758 - acc: 0.9219\n",
      "Epoch 6/100\n",
      "320/320 [==============================] - 0s 243us/step - loss: 0.1752 - acc: 0.9219\n",
      "Epoch 7/100\n",
      "320/320 [==============================] - 0s 277us/step - loss: 0.1749 - acc: 0.9187\n",
      "Epoch 8/100\n",
      "320/320 [==============================] - 0s 287us/step - loss: 0.1756 - acc: 0.9219\n",
      "Epoch 9/100\n",
      "320/320 [==============================] - 0s 262us/step - loss: 0.1737 - acc: 0.9187\n",
      "Epoch 10/100\n",
      "320/320 [==============================] - 0s 273us/step - loss: 0.1745 - acc: 0.9187\n",
      "Epoch 11/100\n",
      "320/320 [==============================] - 0s 252us/step - loss: 0.1732 - acc: 0.9219\n",
      "Epoch 12/100\n",
      "320/320 [==============================] - 0s 228us/step - loss: 0.1729 - acc: 0.9219\n",
      "Epoch 13/100\n",
      "320/320 [==============================] - 0s 262us/step - loss: 0.1722 - acc: 0.9219\n",
      "Epoch 14/100\n",
      "320/320 [==============================] - 0s 271us/step - loss: 0.1718 - acc: 0.9250\n",
      "Epoch 15/100\n",
      "320/320 [==============================] - 0s 215us/step - loss: 0.1720 - acc: 0.9250\n",
      "Epoch 16/100\n",
      "320/320 [==============================] - 0s 252us/step - loss: 0.1713 - acc: 0.9250\n",
      "Epoch 17/100\n",
      "320/320 [==============================] - 0s 276us/step - loss: 0.1707 - acc: 0.9250\n",
      "Epoch 18/100\n",
      "320/320 [==============================] - 0s 254us/step - loss: 0.1710 - acc: 0.9250\n",
      "Epoch 19/100\n",
      "320/320 [==============================] - 0s 256us/step - loss: 0.1697 - acc: 0.9250\n",
      "Epoch 20/100\n",
      "320/320 [==============================] - 0s 237us/step - loss: 0.1709 - acc: 0.9250\n",
      "Epoch 21/100\n",
      "320/320 [==============================] - 0s 249us/step - loss: 0.1700 - acc: 0.9250\n",
      "Epoch 22/100\n",
      "320/320 [==============================] - 0s 256us/step - loss: 0.1703 - acc: 0.9250\n",
      "Epoch 23/100\n",
      "320/320 [==============================] - 0s 218us/step - loss: 0.1687 - acc: 0.9281\n",
      "Epoch 24/100\n",
      "320/320 [==============================] - 0s 259us/step - loss: 0.1684 - acc: 0.9281\n",
      "Epoch 25/100\n",
      "320/320 [==============================] - 0s 252us/step - loss: 0.1680 - acc: 0.9281\n",
      "Epoch 26/100\n",
      "320/320 [==============================] - 0s 309us/step - loss: 0.1684 - acc: 0.9281\n",
      "Epoch 27/100\n",
      "320/320 [==============================] - 0s 427us/step - loss: 0.1668 - acc: 0.9281\n",
      "Epoch 28/100\n",
      "320/320 [==============================] - 0s 471us/step - loss: 0.1669 - acc: 0.9281\n",
      "Epoch 29/100\n",
      "320/320 [==============================] - 0s 321us/step - loss: 0.1668 - acc: 0.9312\n",
      "Epoch 30/100\n",
      "320/320 [==============================] - 0s 418us/step - loss: 0.1661 - acc: 0.9281\n",
      "Epoch 31/100\n",
      "320/320 [==============================] - 0s 407us/step - loss: 0.1661 - acc: 0.9312\n",
      "Epoch 32/100\n",
      "320/320 [==============================] - 0s 360us/step - loss: 0.1667 - acc: 0.9281\n",
      "Epoch 33/100\n",
      "320/320 [==============================] - 0s 327us/step - loss: 0.1651 - acc: 0.9281\n",
      "Epoch 34/100\n",
      "320/320 [==============================] - 0s 457us/step - loss: 0.1653 - acc: 0.9281\n",
      "Epoch 35/100\n",
      "320/320 [==============================] - 0s 418us/step - loss: 0.1653 - acc: 0.9312\n",
      "Epoch 36/100\n",
      "320/320 [==============================] - 0s 418us/step - loss: 0.1643 - acc: 0.9312\n",
      "Epoch 37/100\n",
      "320/320 [==============================] - 0s 430us/step - loss: 0.1645 - acc: 0.9312\n",
      "Epoch 38/100\n",
      "320/320 [==============================] - 0s 383us/step - loss: 0.1639 - acc: 0.9312\n",
      "Epoch 39/100\n",
      "320/320 [==============================] - 0s 371us/step - loss: 0.1635 - acc: 0.9312\n",
      "Epoch 40/100\n",
      "320/320 [==============================] - 0s 480us/step - loss: 0.1631 - acc: 0.9281\n",
      "Epoch 41/100\n",
      "320/320 [==============================] - 0s 309us/step - loss: 0.1625 - acc: 0.9281\n",
      "Epoch 42/100\n",
      "320/320 [==============================] - 0s 379us/step - loss: 0.1625 - acc: 0.9281\n",
      "Epoch 43/100\n",
      "320/320 [==============================] - 0s 249us/step - loss: 0.1628 - acc: 0.9281\n",
      "Epoch 44/100\n",
      "320/320 [==============================] - 0s 208us/step - loss: 0.1618 - acc: 0.9312\n",
      "Epoch 45/100\n",
      "320/320 [==============================] - 0s 237us/step - loss: 0.1619 - acc: 0.9312\n",
      "Epoch 46/100\n",
      "320/320 [==============================] - 0s 249us/step - loss: 0.1618 - acc: 0.9312\n",
      "Epoch 47/100\n",
      "320/320 [==============================] - 0s 312us/step - loss: 0.1613 - acc: 0.9312\n",
      "Epoch 48/100\n",
      "320/320 [==============================] - 0s 513us/step - loss: 0.1614 - acc: 0.9281\n",
      "Epoch 49/100\n",
      "320/320 [==============================] - 0s 360us/step - loss: 0.1606 - acc: 0.9312\n",
      "Epoch 50/100\n",
      "320/320 [==============================] - 0s 390us/step - loss: 0.1607 - acc: 0.9312\n",
      "Epoch 51/100\n",
      "320/320 [==============================] - 0s 262us/step - loss: 0.1603 - acc: 0.9312\n",
      "Epoch 52/100\n",
      "320/320 [==============================] - 0s 550us/step - loss: 0.1602 - acc: 0.9312\n",
      "Epoch 53/100\n",
      "320/320 [==============================] - 0s 315us/step - loss: 0.1601 - acc: 0.9344\n",
      "Epoch 54/100\n",
      "320/320 [==============================] - 0s 302us/step - loss: 0.1603 - acc: 0.9312\n",
      "Epoch 55/100\n",
      "320/320 [==============================] - 0s 399us/step - loss: 0.1602 - acc: 0.9281\n",
      "Epoch 56/100\n",
      "320/320 [==============================] - 0s 277us/step - loss: 0.1596 - acc: 0.9312\n",
      "Epoch 57/100\n",
      "320/320 [==============================] - 0s 295us/step - loss: 0.1592 - acc: 0.9312\n",
      "Epoch 58/100\n",
      "320/320 [==============================] - 0s 390us/step - loss: 0.1590 - acc: 0.9344\n",
      "Epoch 59/100\n",
      "320/320 [==============================] - 0s 271us/step - loss: 0.1593 - acc: 0.9344\n",
      "Epoch 60/100\n",
      "320/320 [==============================] - 0s 228us/step - loss: 0.1590 - acc: 0.9281\n",
      "Epoch 61/100\n",
      "320/320 [==============================] - 0s 239us/step - loss: 0.1581 - acc: 0.9312\n",
      "Epoch 62/100\n",
      "320/320 [==============================] - 0s 217us/step - loss: 0.1577 - acc: 0.9344\n",
      "Epoch 63/100\n",
      "320/320 [==============================] - 0s 218us/step - loss: 0.1577 - acc: 0.9344\n",
      "Epoch 64/100\n",
      "320/320 [==============================] - 0s 232us/step - loss: 0.1571 - acc: 0.9312\n",
      "Epoch 65/100\n",
      "320/320 [==============================] - 0s 256us/step - loss: 0.1567 - acc: 0.9312\n",
      "Epoch 66/100\n",
      "320/320 [==============================] - 0s 203us/step - loss: 0.1564 - acc: 0.9344\n",
      "Epoch 67/100\n",
      "320/320 [==============================] - 0s 246us/step - loss: 0.1567 - acc: 0.9312\n",
      "Epoch 68/100\n",
      "320/320 [==============================] - 0s 224us/step - loss: 0.1565 - acc: 0.9312\n",
      "Epoch 69/100\n",
      "320/320 [==============================] - 0s 190us/step - loss: 0.1559 - acc: 0.9312\n",
      "Epoch 70/100\n",
      "320/320 [==============================] - 0s 277us/step - loss: 0.1554 - acc: 0.9312\n",
      "Epoch 71/100\n",
      "320/320 [==============================] - 0s 240us/step - loss: 0.1562 - acc: 0.9312\n",
      "Epoch 72/100\n",
      "320/320 [==============================] - 0s 218us/step - loss: 0.1543 - acc: 0.9344\n",
      "Epoch 73/100\n",
      "320/320 [==============================] - 0s 159us/step - loss: 0.1544 - acc: 0.9344\n",
      "Epoch 74/100\n",
      "320/320 [==============================] - 0s 193us/step - loss: 0.1543 - acc: 0.9312\n",
      "Epoch 75/100\n",
      "320/320 [==============================] - 0s 246us/step - loss: 0.1545 - acc: 0.9344\n",
      "Epoch 76/100\n",
      "320/320 [==============================] - 0s 168us/step - loss: 0.1544 - acc: 0.9375\n",
      "Epoch 77/100\n",
      "320/320 [==============================] - 0s 159us/step - loss: 0.1557 - acc: 0.9344\n",
      "Epoch 78/100\n",
      "320/320 [==============================] - 0s 168us/step - loss: 0.1529 - acc: 0.9375\n",
      "Epoch 79/100\n",
      "320/320 [==============================] - 0s 221us/step - loss: 0.1531 - acc: 0.9375\n",
      "Epoch 80/100\n",
      "320/320 [==============================] - 0s 240us/step - loss: 0.1536 - acc: 0.9375\n",
      "Epoch 81/100\n",
      "320/320 [==============================] - 0s 199us/step - loss: 0.1531 - acc: 0.9375\n",
      "Epoch 82/100\n",
      "320/320 [==============================] - 0s 178us/step - loss: 0.1527 - acc: 0.9375\n",
      "Epoch 83/100\n"
     ]
    },
    {
     "name": "stdout",
     "output_type": "stream",
     "text": [
      "320/320 [==============================] - 0s 221us/step - loss: 0.1522 - acc: 0.9375\n",
      "Epoch 84/100\n",
      "320/320 [==============================] - 0s 209us/step - loss: 0.1522 - acc: 0.9375\n",
      "Epoch 85/100\n",
      "320/320 [==============================] - 0s 206us/step - loss: 0.1533 - acc: 0.9281\n",
      "Epoch 86/100\n",
      "320/320 [==============================] - 0s 234us/step - loss: 0.1521 - acc: 0.9375\n",
      "Epoch 87/100\n",
      "320/320 [==============================] - 0s 203us/step - loss: 0.1517 - acc: 0.9375\n",
      "Epoch 88/100\n",
      "320/320 [==============================] - 0s 209us/step - loss: 0.1513 - acc: 0.9375\n",
      "Epoch 89/100\n",
      "320/320 [==============================] - 0s 187us/step - loss: 0.1518 - acc: 0.9344\n",
      "Epoch 90/100\n",
      "320/320 [==============================] - 0s 212us/step - loss: 0.1509 - acc: 0.9375\n",
      "Epoch 91/100\n",
      "320/320 [==============================] - 0s 259us/step - loss: 0.1508 - acc: 0.9344\n",
      "Epoch 92/100\n",
      "320/320 [==============================] - 0s 271us/step - loss: 0.1514 - acc: 0.9375\n",
      "Epoch 93/100\n",
      "320/320 [==============================] - 0s 237us/step - loss: 0.1501 - acc: 0.9344\n",
      "Epoch 94/100\n",
      "320/320 [==============================] - 0s 231us/step - loss: 0.1507 - acc: 0.9344\n",
      "Epoch 95/100\n",
      "320/320 [==============================] - 0s 249us/step - loss: 0.1497 - acc: 0.9375\n",
      "Epoch 96/100\n",
      "320/320 [==============================] - 0s 203us/step - loss: 0.1495 - acc: 0.9375\n",
      "Epoch 97/100\n",
      "320/320 [==============================] - 0s 193us/step - loss: 0.1494 - acc: 0.9375\n",
      "Epoch 98/100\n",
      "320/320 [==============================] - 0s 178us/step - loss: 0.1503 - acc: 0.9375\n",
      "Epoch 99/100\n",
      "320/320 [==============================] - 0s 246us/step - loss: 0.1501 - acc: 0.9344\n",
      "Epoch 100/100\n",
      "320/320 [==============================] - 0s 315us/step - loss: 0.1491 - acc: 0.9375\n"
     ]
    },
    {
     "data": {
      "text/plain": [
       "<keras.callbacks.History at 0x1d89d9e01d0>"
      ]
     },
     "execution_count": 82,
     "metadata": {},
     "output_type": "execute_result"
    }
   ],
   "source": [
    "model.fit(X_train,y_train,epochs=100,batch_size=10)"
   ]
  },
  {
   "cell_type": "code",
   "execution_count": 87,
   "metadata": {},
   "outputs": [],
   "source": [
    "model.save(\"model1\")"
   ]
  },
  {
   "cell_type": "code",
   "execution_count": 83,
   "metadata": {},
   "outputs": [],
   "source": [
    "y_pred = model.predict(X_test)"
   ]
  },
  {
   "cell_type": "code",
   "execution_count": 84,
   "metadata": {},
   "outputs": [],
   "source": [
    "y_pred = y_pred > 0.7"
   ]
  },
  {
   "cell_type": "code",
   "execution_count": 85,
   "metadata": {},
   "outputs": [],
   "source": [
    "from sklearn.metrics import confusion_matrix"
   ]
  },
  {
   "cell_type": "code",
   "execution_count": 86,
   "metadata": {},
   "outputs": [
    {
     "data": {
      "text/plain": [
       "array([[ 6,  1],\n",
       "       [ 4, 69]], dtype=int64)"
      ]
     },
     "execution_count": 86,
     "metadata": {},
     "output_type": "execute_result"
    }
   ],
   "source": [
    "confusion_matrix(y_test,y_pred)"
   ]
  },
  {
   "cell_type": "code",
   "execution_count": null,
   "metadata": {},
   "outputs": [],
   "source": []
  },
  {
   "cell_type": "code",
   "execution_count": null,
   "metadata": {},
   "outputs": [],
   "source": []
  }
 ],
 "metadata": {
  "kernelspec": {
   "display_name": "Python 3",
   "language": "python",
   "name": "python3"
  },
  "language_info": {
   "codemirror_mode": {
    "name": "ipython",
    "version": 3
   },
   "file_extension": ".py",
   "mimetype": "text/x-python",
   "name": "python",
   "nbconvert_exporter": "python",
   "pygments_lexer": "ipython3",
   "version": "3.7.1"
  }
 },
 "nbformat": 4,
 "nbformat_minor": 2
}
