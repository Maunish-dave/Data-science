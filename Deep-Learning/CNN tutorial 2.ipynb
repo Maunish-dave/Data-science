{
 "cells": [
  {
   "cell_type": "markdown",
   "metadata": {},
   "source": [
    "## classification of images using CNN\n",
    "\n",
    "\n",
    "CNN stands for convolutional neural networks.\n",
    "\n",
    "In basic neural netowrk we give it number of inputs and based on the neural network it gives us output\n",
    "\n",
    "CNN is mostly used to classify images using neural network\n",
    "\n",
    "basically a convolutional layer is added in addition to the neural network.\n",
    "\n",
    "but what is convolutional layer and how it works?"
   ]
  },
  {
   "cell_type": "markdown",
   "metadata": {},
   "source": [
    "## What is convolutional layer ?"
   ]
  },
  {
   "cell_type": "markdown",
   "metadata": {},
   "source": [
    "![title](cnn_example.jpg)"
   ]
  },
  {
   "cell_type": "markdown",
   "metadata": {},
   "source": [
    "If we look into above image there are two main layers \n",
    "\n",
    "one with the green and red dots is a neural netowrk\n",
    "\n",
    "and the first and third layer after image of 2(input layer) are convolutional layer.\n",
    "\n",
    "after that we have got some other layers like \n",
    "\n",
    "**Maxpooling**\n",
    "\n",
    "and last before NN(neural netowrk) is **flattened layer**\n",
    "\n",
    "we are going to study about all this layers in this tutorial"
   ]
  },
  {
   "cell_type": "markdown",
   "metadata": {},
   "source": [
    "## convolutional layer\n",
    "\n"
   ]
  },
  {
   "cell_type": "markdown",
   "metadata": {},
   "source": [
    "![title](https://media.giphy.com/media/i4NjAwytgIRDW/giphy.gif)"
   ]
  },
  {
   "cell_type": "markdown",
   "metadata": {},
   "source": [
    "Let us take example of above gif.\n",
    "\n",
    "consider a fiter of 3x3 here filter means a matrix of 3x3 \n",
    "\n",
    "matrix contains two numbers 0 or 1.\n",
    "\n",
    "above our matrix feature is  [[1,0,1],\n",
    "                              [0,1,0],\n",
    "                              [1,0,1]]\n",
    "                              \n",
    "when we pass this filter over the image which is shown in green in above gif.\n",
    "\n",
    "and do dot product of matrix of feature with the numbers in image it will give us a new image.\n",
    "\n",
    "and advantage of this image is that it will highlight some things about the orignal image.\n",
    "\n",
    "for example in below image."
   ]
  },
  {
   "cell_type": "markdown",
   "metadata": {},
   "source": [
    "![title](Capture.jpg)"
   ]
  },
  {
   "cell_type": "markdown",
   "metadata": {},
   "source": [
    "as you can see in above image which is taken from deep lizards video\n",
    "\n",
    "if we apply different filters on the image of number 7 we get different edges of image of 7 highlited\n",
    "\n",
    "Which will help the neural network in classifying the image.\n",
    "\n",
    "link to video is [here](https://www.youtube.com/watch?time_continue=434&v=YRhxdVk_sIs)"
   ]
  },
  {
   "cell_type": "markdown",
   "metadata": {},
   "source": [
    "## Maxpooling layer"
   ]
  },
  {
   "cell_type": "markdown",
   "metadata": {},
   "source": [
    "some times the size of the image will be big and to fit that image in NN will take more processing power.\n",
    "\n",
    "So Maxpooling is a technique in which we can reduce the size of image and as well as retain important features from image.\n",
    "\n",
    "Similar to convolutional layer we have a matrix of some size lets say 2x2(this matrix is known as poolsize) now this matrix is passed over the image like \n",
    "\n",
    "convolutional layer but here in Maxpooling it will find out max number in that matrix and will create new matrix as shown in\n",
    "\n",
    "below gif"
   ]
  },
  {
   "cell_type": "markdown",
   "metadata": {},
   "source": [
    "![title](maxpool_animation.gif)"
   ]
  },
  {
   "cell_type": "markdown",
   "metadata": {},
   "source": [
    "\n",
    "\n",
    "there are other types of pooling method like **sum pooling** and **average pooling** \n",
    "\n",
    "but **Maxpooling** is most used\n"
   ]
  },
  {
   "cell_type": "markdown",
   "metadata": {},
   "source": [
    "## Flattening layer\n",
    "\n",
    "In NN we can not give a 2D image as the input so we need to flatten the image\n",
    "\n",
    "so flatten layer will convert 2D image into 1D image\n",
    "\n",
    "\n",
    "after that whole CNN is trained to get the desired classification"
   ]
  },
  {
   "cell_type": "markdown",
   "metadata": {},
   "source": []
  },
  {
   "cell_type": "markdown",
   "metadata": {},
   "source": []
  }
 ],
 "metadata": {
  "kernelspec": {
   "display_name": "Python 3",
   "language": "python",
   "name": "python3"
  },
  "language_info": {
   "codemirror_mode": {
    "name": "ipython",
    "version": 3
   },
   "file_extension": ".py",
   "mimetype": "text/x-python",
   "name": "python",
   "nbconvert_exporter": "python",
   "pygments_lexer": "ipython3",
   "version": "3.7.1"
  }
 },
 "nbformat": 4,
 "nbformat_minor": 2
}
