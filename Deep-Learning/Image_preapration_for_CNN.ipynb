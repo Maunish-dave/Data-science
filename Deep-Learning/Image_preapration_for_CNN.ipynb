{
 "cells": [
  {
   "cell_type": "markdown",
   "metadata": {},
   "source": [
    "# How to Load and Transform images using Python pillow / PIL for CNN\n",
    "\n",
    "The library we are going to use here for image manipulation is called pillow which is build on top of the older library PIL\n",
    "\n",
    "we will learn following things.\n",
    "\n",
    "1. how to install Pillow\n",
    "2. how to import Pillow\n",
    "3. how to load image from the file\n",
    "4. how to resize image and to save image."
   ]
  },
  {
   "cell_type": "markdown",
   "metadata": {},
   "source": [
    "for installing pillow write following command"
   ]
  },
  {
   "cell_type": "code",
   "execution_count": 3,
   "metadata": {},
   "outputs": [
    {
     "name": "stdout",
     "output_type": "stream",
     "text": [
      "Requirement already satisfied: Pillow in c:\\programdata\\anaconda3\\lib\\site-packages (5.3.0)\n"
     ]
    }
   ],
   "source": [
    "!pip install Pillow"
   ]
  },
  {
   "cell_type": "markdown",
   "metadata": {},
   "source": [
    "As Pillow is build upon the PIL we can import is as follow"
   ]
  },
  {
   "cell_type": "code",
   "execution_count": 4,
   "metadata": {},
   "outputs": [
    {
     "name": "stdout",
     "output_type": "stream",
     "text": [
      "5.3.0\n",
      "1.1.7\n"
     ]
    }
   ],
   "source": [
    "import PIL\n",
    "\n",
    "# check version of the Pillow\n",
    "print(PIL.__version__)\n",
    "print(PIL.VERSION)"
   ]
  },
  {
   "cell_type": "markdown",
   "metadata": {},
   "source": [
    "## Load and display image using Pillow library\n",
    "\n",
    "Pillow library has a class named Image which contains all main function to work with image.\n",
    "\n",
    "To open a image  use open(\"path of image\") of Image class\n",
    "which will return Image object.\n",
    "\n",
    "Image object will contain property like .format, .mode , .size\n",
    "\n",
    ".format = format of image JPEG , PNG etc..\n",
    "\n",
    ".mode = RGB, CYMK\n",
    "\n",
    ".size = size of image (640 X 480)\n",
    "\n",
    "inorder to display image use image.show() function.\n",
    "\n",
    "Download image from [here](https://3qeqpr26caki16dnhd19sv6by6v-wpengine.netdna-ssl.com/wp-content/uploads/2019/01/Sydney-Opera-House.jpg)\n"
   ]
  },
  {
   "cell_type": "code",
   "execution_count": 7,
   "metadata": {},
   "outputs": [
    {
     "name": "stdout",
     "output_type": "stream",
     "text": [
      "RGB\n",
      "JPEG\n",
      "(640, 360)\n"
     ]
    }
   ],
   "source": [
    "from PIL import Image\n",
    "\n",
    "image = Image.open(\"Sydney-Opera-House.jpg\")\n",
    "\n",
    "print(image.mode)\n",
    "print(image.format)\n",
    "print(image.size)\n",
    "\n",
    "image.show()\n",
    "\n",
    "#this will open image in another window "
   ]
  },
  {
   "cell_type": "markdown",
   "metadata": {},
   "source": [
    "# How to manipulate image with keras API\n",
    "\n",
    "keras provides you with the api to process image which is build upon PIL\n",
    "\n",
    "so in order to use this API PIL is needed\n",
    "\n",
    "Keras API allows functions like, save, conversion to numpy array, load, convert to grayScale etc.."
   ]
  },
  {
   "cell_type": "code",
   "execution_count": 2,
   "metadata": {},
   "outputs": [
    {
     "name": "stderr",
     "output_type": "stream",
     "text": [
      "Using TensorFlow backend.\n"
     ]
    }
   ],
   "source": [
    "from keras.preprocessing.image import load_img\n"
   ]
  },
  {
   "cell_type": "markdown",
   "metadata": {},
   "source": [
    "we are going to use same image as used above in PIL example."
   ]
  },
  {
   "cell_type": "code",
   "execution_count": 4,
   "metadata": {},
   "outputs": [
    {
     "name": "stdout",
     "output_type": "stream",
     "text": [
      "(640, 360)\n",
      "JPEG\n",
      "RGB\n"
     ]
    }
   ],
   "source": [
    "image = load_img(\"Sydney-Opera-House.jpg\")\n",
    "\n",
    "## similar to PIL here we have got functionn like format , mode , size \n",
    "\n",
    "print(image.size)\n",
    "print(image.format)\n",
    "print(image.mode)"
   ]
  },
  {
   "cell_type": "markdown",
   "metadata": {},
   "source": [
    "### converting image to numpy array and numpy array to image"
   ]
  },
  {
   "cell_type": "code",
   "execution_count": 7,
   "metadata": {},
   "outputs": [],
   "source": [
    "from keras.preprocessing.image import load_img, img_to_array , array_to_img"
   ]
  },
  {
   "cell_type": "code",
   "execution_count": 8,
   "metadata": {},
   "outputs": [
    {
     "name": "stdout",
     "output_type": "stream",
     "text": [
      "<class 'PIL.JpegImagePlugin.JpegImageFile'>\n",
      "JPEG\n",
      "(640, 360)\n",
      "<class 'numpy.ndarray'>\n",
      "<class 'PIL.Image.Image'>\n"
     ]
    }
   ],
   "source": [
    "image = load_img(\"Sydney-Opera-House.jpg\")\n",
    "\n",
    "print(type(image))\n",
    "print(image.format)\n",
    "print(image.size)\n",
    "\n",
    "image  = img_to_array(image)\n",
    "\n",
    "print(type(image))\n",
    "\n",
    "## converiting array to image\n",
    "\n",
    "image  = array_to_img(image)\n",
    "\n",
    "print(type(image))"
   ]
  },
  {
   "cell_type": "markdown",
   "metadata": {},
   "source": [
    "### how to save image with keras"
   ]
  },
  {
   "cell_type": "code",
   "execution_count": 9,
   "metadata": {},
   "outputs": [],
   "source": [
    "from keras.preprocessing.image import save_img"
   ]
  },
  {
   "cell_type": "markdown",
   "metadata": {},
   "source": [
    "save_img() have two parameter path to save the image and numpy array of the image"
   ]
  },
  {
   "cell_type": "code",
   "execution_count": 11,
   "metadata": {},
   "outputs": [],
   "source": [
    "image = load_img(\"Sydney-Opera-House.jpg\",grayscale=True)\n",
    "\n",
    "image_array = img_to_array(image)\n",
    "\n",
    "save_img(\"Sydney-Opera-House_grayscale.jpg\",image_array)\n",
    "\n",
    "image.show()\n",
    "\n"
   ]
  },
  {
   "cell_type": "code",
   "execution_count": null,
   "metadata": {},
   "outputs": [],
   "source": []
  }
 ],
 "metadata": {
  "kernelspec": {
   "display_name": "Python 3",
   "language": "python",
   "name": "python3"
  },
  "language_info": {
   "codemirror_mode": {
    "name": "ipython",
    "version": 3
   },
   "file_extension": ".py",
   "mimetype": "text/x-python",
   "name": "python",
   "nbconvert_exporter": "python",
   "pygments_lexer": "ipython3",
   "version": "3.7.1"
  }
 },
 "nbformat": 4,
 "nbformat_minor": 2
}
